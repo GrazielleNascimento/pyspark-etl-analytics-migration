{
 "cells": [
  {
   "cell_type": "code",
   "execution_count": 6,
   "id": "d5af0660",
   "metadata": {},
   "outputs": [],
   "source": [
    "# Importa pandas e funções do PySpark\n",
    "import pandas as pd\n",
    "import os\n",
    "import sys\n",
    "import boto3\n",
    "\n",
    "os.environ['PYSPARK_PYTHON'] = sys.executable\n",
    "os.environ['PYSPARK_DRIVER_PYTHON'] = sys.executable"
   ]
  },
  {
   "cell_type": "code",
   "execution_count": 7,
   "id": "847daf7d",
   "metadata": {},
   "outputs": [],
   "source": [
    "from pyspark.sql import SparkSession\n",
    "from pyspark.sql.functions import *\n",
    "from pyspark.sql.types import *\n",
    "from botocore.exceptions import ClientError\n"
   ]
  },
  {
   "cell_type": "code",
   "execution_count": 8,
   "id": "f5d05e36",
   "metadata": {},
   "outputs": [],
   "source": [
    "# Inicializa a SparkSession\n",
    "spark = SparkSession.builder.appName(\"InicializarDynamo\").getOrCreate()"
   ]
  },
  {
   "cell_type": "code",
   "execution_count": 9,
   "id": "26358e81",
   "metadata": {},
   "outputs": [
    {
     "name": "stdout",
     "output_type": "stream",
     "text": [
      "Linhas no arquivo: 3000\n",
      "+-------------------------------------------------------+------------------+-----------------+-------------------+-------------------+------+----------------+--------------+--------------------------------+\n",
      "|Nome da Tarefa                                         |Tipo da Tarefa    |Tipo da Tarefa ID|Data de Criação    |Data de Conclusão  |Status|Status Descrição|Usuário       |ID do Usuário                   |\n",
      "+-------------------------------------------------------+------------------+-----------------+-------------------+-------------------+------+----------------+--------------+--------------------------------+\n",
      "|Cum iure exercitationem laboriosam                     |Tarefa a Ser Feita|2                |2024-07-18 22:51:51|2025-02-12 22:51:51|2     |Concluído       |Jeferson Klau |b4853fc1f03a3a4cec530a98a94d89ad|\n",
      "|Recusandae quasi                                       |Tarefa a Ser Feita|2                |2024-01-09 21:03:53|NULL               |3     |Cancelado       |Pedro da Silva|f9a533f2c78e4a09f87c9e68e442d3fe|\n",
      "|Temporibus aperiam                                     |Tarefa a Ser Feita|2                |2024-08-24 04:40:10|NULL               |3     |Cancelado       |Pedro da Silva|f9a533f2c78e4a09f87c9e68e442d3fe|\n",
      "|Impedit laboriosam sed exercitationem voluptas ab fugit|Tarefa a Ser Feita|2                |2024-10-16 21:40:59|NULL               |3     |Cancelado       |Jeferson Klau |f9a533f2c78e4a09f87c9e68e442d3fe|\n",
      "|Asperiores iusto                                       |Tarefa a Ser Feita|2                |2025-05-29 09:07:49|NULL               |1     |A Fazer         |Jeferson Klau |b4853fc1f03a3a4cec530a98a94d89ad|\n",
      "+-------------------------------------------------------+------------------+-----------------+-------------------+-------------------+------+----------------+--------------+--------------------------------+\n",
      "only showing top 5 rows\n"
     ]
    },
    {
     "data": {
      "text/plain": [
       "['Nome da Tarefa',\n",
       " 'Tipo da Tarefa',\n",
       " 'Tipo da Tarefa ID',\n",
       " 'Data de Criação',\n",
       " 'Data de Conclusão',\n",
       " 'Status',\n",
       " 'Status Descrição',\n",
       " 'Usuário',\n",
       " 'ID do Usuário']"
      ]
     },
     "execution_count": 9,
     "metadata": {},
     "output_type": "execute_result"
    }
   ],
   "source": [
    "# Lê o CSV \n",
    "df = spark.read.csv('../data/amostragem.csv', header=True, inferSchema=True, sep=';')\n",
    "print(\"Linhas no arquivo:\", df.count())\n",
    "df.show(5, truncate=False)\n",
    "df.columns"
   ]
  },
  {
   "cell_type": "code",
   "execution_count": 10,
   "id": "c76fc38d",
   "metadata": {},
   "outputs": [],
   "source": [
    "# Substitui status de acordo com a descrição e remove o usuário diferente de Jeferson\n",
    "df = df.withColumn(\n",
    "    \"status\",\n",
    "    when(col(\"Status Descrição\") == \"Concluído\", \"done\")\n",
    "    .when(col(\"Status Descrição\") == \"A Fazer\", \"todo\")\n",
    "    .otherwise(None)\n",
    ")"
   ]
  },
  {
   "cell_type": "code",
   "execution_count": 11,
   "id": "0e91a945",
   "metadata": {},
   "outputs": [
    {
     "name": "stdout",
     "output_type": "stream",
     "text": [
      "Linhas após filtro usuário: 66\n",
      "+------------------------------------------------------+------------------+-----------------+-------------------+-------------------+------+----------------+--------------+--------------------------------+\n",
      "|Nome da Tarefa                                        |Tipo da Tarefa    |Tipo da Tarefa ID|Data de Criação    |Data de Conclusão  |status|Status Descrição|Usuário       |ID do Usuário                   |\n",
      "+------------------------------------------------------+------------------+-----------------+-------------------+-------------------+------+----------------+--------------+--------------------------------+\n",
      "|Cum iure exercitationem laboriosam                    |Tarefa a Ser Feita|2                |2024-07-18 22:51:51|2025-02-12 22:51:51|done  |Concluído       |Jeferson Klau |b4853fc1f03a3a4cec530a98a94d89ad|\n",
      "|Asperiores iusto                                      |Tarefa a Ser Feita|2                |2025-05-29 09:07:49|NULL               |todo  |A Fazer         |Jeferson Klau |b4853fc1f03a3a4cec530a98a94d89ad|\n",
      "|Asperiores pariatur voluptatibus magnam               |Tarefa a Ser Feita|2                |2023-09-12 19:56:45|NULL               |todo  |A Fazer         |Jeferson Klau |b4853fc1f03a3a4cec530a98a94d89ad|\n",
      "|Comprar aliquam                                       |Item de Compra    |1                |2024-02-18 16:05:27|2024-09-10 16:05:27|done  |Concluído       |Pedro da Silva|f9a533f2c78e4a09f87c9e68e442d3fe|\n",
      "|Comprar ipsa                                          |Item de Compra    |1                |2024-11-27 13:01:39|2025-02-08 13:01:39|done  |Concluído       |Jeferson Klau |b4853fc1f03a3a4cec530a98a94d89ad|\n",
      "|Comprar maiores                                       |Item de Compra    |1                |2023-11-26 23:54:03|NULL               |todo  |A Fazer         |Pedro da Silva|f9a533f2c78e4a09f87c9e68e442d3fe|\n",
      "|Perspiciatis velit saepe modi                         |Tarefa a Ser Feita|2                |2025-03-19 00:16:40|2025-06-02 20:57:40|done  |Concluído       |Pedro da Silva|f9a533f2c78e4a09f87c9e68e442d3fe|\n",
      "|Comprar asperiores                                    |Item de Compra    |1                |2025-04-01 19:03:43|2025-06-02 21:04:40|done  |Concluído       |Pedro da Silva|f9a533f2c78e4a09f87c9e68e442d3fe|\n",
      "|Comprar tempore                                       |Item de Compra    |1                |2023-06-26 06:33:23|2024-06-15 06:33:23|done  |Concluído       |Jeferson Klau |b4853fc1f03a3a4cec530a98a94d89ad|\n",
      "|Laboriosam dolor                                      |Tarefa a Ser Feita|2                |2023-08-27 09:30:37|NULL               |todo  |A Fazer         |Jeferson Klau |b4853fc1f03a3a4cec530a98a94d89ad|\n",
      "|Eius odio consectetur ipsa quasi                      |Tarefa a Ser Feita|2                |2025-01-11 23:59:13|2025-02-23 23:59:13|done  |Concluído       |Pedro da Silva|f9a533f2c78e4a09f87c9e68e442d3fe|\n",
      "|Blanditiis corrupti quasi                             |Tarefa a Ser Feita|2                |2025-02-05 16:57:46|NULL               |todo  |A Fazer         |Jeferson Klau |b4853fc1f03a3a4cec530a98a94d89ad|\n",
      "|Facilis possimus quo deleniti rem                     |Tarefa a Ser Feita|2                |2023-12-23 12:30:49|2024-07-28 12:30:49|done  |Concluído       |Pedro da Silva|f9a533f2c78e4a09f87c9e68e442d3fe|\n",
      "|Veritatis accusantium dolor consequuntur              |Tarefa a Ser Feita|2                |2025-02-01 04:33:54|2025-06-02 21:20:40|done  |Concluído       |Pedro da Silva|f9a533f2c78e4a09f87c9e68e442d3fe|\n",
      "|Totam accusantium omnis occaecati debitis             |Tarefa a Ser Feita|2                |2024-10-30 03:05:27|2025-06-02 21:37:40|done  |Concluído       |Pedro da Silva|f9a533f2c78e4a09f87c9e68e442d3fe|\n",
      "|Eveniet corrupti possimus                             |Tarefa a Ser Feita|2                |2024-05-15 06:00:23|2024-08-01 06:00:23|done  |Concluído       |Pedro da Silva|f9a533f2c78e4a09f87c9e68e442d3fe|\n",
      "|Dolores molestiae nulla                               |Tarefa a Ser Feita|2                |2024-05-02 02:41:28|NULL               |todo  |A Fazer         |Pedro da Silva|f9a533f2c78e4a09f87c9e68e442d3fe|\n",
      "|Comprar consectetur                                   |Item de Compra    |1                |2023-06-14 15:29:12|NULL               |todo  |A Fazer         |Pedro da Silva|f9a533f2c78e4a09f87c9e68e442d3fe|\n",
      "|Comprar esse                                          |Item de Compra    |1                |2025-02-13 11:13:26|2025-06-02 20:48:40|done  |Concluído       |Jeferson Klau |b4853fc1f03a3a4cec530a98a94d89ad|\n",
      "|Sunt soluta officia quam nesciunt                     |Tarefa a Ser Feita|2                |2024-03-31 16:41:51|NULL               |todo  |A Fazer         |Jeferson Klau |b4853fc1f03a3a4cec530a98a94d89ad|\n",
      "|Dolor dignissimos voluptatum aliquam iure at          |Tarefa a Ser Feita|2                |2023-06-04 20:14:50|2023-07-24 20:14:50|done  |Concluído       |Pedro da Silva|f9a533f2c78e4a09f87c9e68e442d3fe|\n",
      "|Comprar voluptatibus                                  |Item de Compra    |1                |2024-01-05 17:12:06|2024-05-19 17:12:06|done  |Concluído       |Pedro da Silva|f9a533f2c78e4a09f87c9e68e442d3fe|\n",
      "|Voluptates quo itaque libero aliquid                  |Tarefa a Ser Feita|2                |2023-12-27 15:01:38|NULL               |todo  |A Fazer         |Pedro da Silva|f9a533f2c78e4a09f87c9e68e442d3fe|\n",
      "|Consectetur aliquid doloribus aut ex pariatur         |Tarefa a Ser Feita|2                |2024-05-04 17:06:57|2024-10-11 17:06:57|done  |Concluído       |Pedro da Silva|f9a533f2c78e4a09f87c9e68e442d3fe|\n",
      "|Comprar recusandae                                    |Item de Compra    |1                |2023-06-17 15:18:56|NULL               |todo  |A Fazer         |Pedro da Silva|f9a533f2c78e4a09f87c9e68e442d3fe|\n",
      "|Comprar ab                                            |Item de Compra    |1                |2024-11-12 11:14:24|NULL               |todo  |A Fazer         |Jeferson Klau |b4853fc1f03a3a4cec530a98a94d89ad|\n",
      "|Amet beatae esse                                      |Tarefa a Ser Feita|2                |2024-02-10 16:00:34|2024-02-14 16:00:34|done  |Concluído       |Jeferson Klau |b4853fc1f03a3a4cec530a98a94d89ad|\n",
      "|Modi                                                  |Tarefa a Ser Feita|2                |2025-03-12 12:43:39|NULL               |todo  |A Fazer         |Jeferson Klau |b4853fc1f03a3a4cec530a98a94d89ad|\n",
      "|Comprar quaerat                                       |Item de Compra    |1                |2024-05-02 08:43:51|NULL               |todo  |A Fazer         |Pedro da Silva|f9a533f2c78e4a09f87c9e68e442d3fe|\n",
      "|Comprar sed                                           |Item de Compra    |1                |2025-05-25 23:04:16|NULL               |todo  |A Fazer         |Jeferson Klau |b4853fc1f03a3a4cec530a98a94d89ad|\n",
      "|Comprar ullam                                         |Item de Compra    |1                |2024-09-21 07:48:24|2025-01-25 07:48:24|done  |Concluído       |Jeferson Klau |b4853fc1f03a3a4cec530a98a94d89ad|\n",
      "|Ipsa accusantium voluptate                            |Tarefa a Ser Feita|2                |2024-05-19 03:14:54|2025-01-12 03:14:54|done  |Concluído       |Jeferson Klau |b4853fc1f03a3a4cec530a98a94d89ad|\n",
      "|Doloremque excepturi repellendus ad iusto aut         |Tarefa a Ser Feita|2                |2024-07-10 18:55:09|2025-01-16 18:55:09|done  |Concluído       |Jeferson Klau |b4853fc1f03a3a4cec530a98a94d89ad|\n",
      "|Ad iusto culpa                                        |Tarefa a Ser Feita|2                |2023-12-16 05:13:08|NULL               |todo  |A Fazer         |Jeferson Klau |b4853fc1f03a3a4cec530a98a94d89ad|\n",
      "|Rerum animi ducimus vel                               |Tarefa a Ser Feita|2                |2024-10-10 04:20:59|2024-12-13 04:20:59|done  |Concluído       |Jeferson Klau |b4853fc1f03a3a4cec530a98a94d89ad|\n",
      "|Comprar laboriosam                                    |Item de Compra    |1                |2024-11-08 11:56:51|NULL               |todo  |A Fazer         |Pedro da Silva|f9a533f2c78e4a09f87c9e68e442d3fe|\n",
      "|Maxime nesciunt expedita totam                        |Tarefa a Ser Feita|2                |2023-08-18 16:34:57|NULL               |todo  |A Fazer         |Pedro da Silva|f9a533f2c78e4a09f87c9e68e442d3fe|\n",
      "|Explicabo dolor                                       |Tarefa a Ser Feita|2                |2024-01-09 02:10:09|2024-11-23 02:10:09|done  |Concluído       |Pedro da Silva|f9a533f2c78e4a09f87c9e68e442d3fe|\n",
      "|Comprar aspernatur                                    |Item de Compra    |1                |2024-03-10 01:25:36|NULL               |todo  |A Fazer         |Jeferson Klau |b4853fc1f03a3a4cec530a98a94d89ad|\n",
      "|Fuga quae corporis dignissimos voluptas dolorem ipsa  |Tarefa a Ser Feita|2                |2024-07-08 13:30:58|NULL               |todo  |A Fazer         |Jeferson Klau |b4853fc1f03a3a4cec530a98a94d89ad|\n",
      "|Facilis illo quibusdam                                |Tarefa a Ser Feita|2                |2024-02-17 00:48:53|2024-05-26 00:48:53|done  |Concluído       |Jeferson Klau |b4853fc1f03a3a4cec530a98a94d89ad|\n",
      "|Minus quisquam quae                                   |Tarefa a Ser Feita|2                |2024-12-07 15:53:54|2025-06-02 21:02:40|done  |Concluído       |Jeferson Klau |b4853fc1f03a3a4cec530a98a94d89ad|\n",
      "|Delectus cum aut rem earum                            |Tarefa a Ser Feita|2                |2023-12-31 11:54:55|2024-06-10 11:54:55|done  |Concluído       |Jeferson Klau |b4853fc1f03a3a4cec530a98a94d89ad|\n",
      "|Voluptas reprehenderit assumenda unde ipsa            |Tarefa a Ser Feita|2                |2025-05-24 21:48:37|NULL               |todo  |A Fazer         |Pedro da Silva|f9a533f2c78e4a09f87c9e68e442d3fe|\n",
      "|Nobis fugit earum enim quo ipsa                       |Tarefa a Ser Feita|2                |2025-05-09 03:37:11|NULL               |todo  |A Fazer         |Jeferson Klau |b4853fc1f03a3a4cec530a98a94d89ad|\n",
      "|Eius perspiciatis                                     |Tarefa a Ser Feita|2                |2025-05-08 19:58:47|2025-06-02 20:51:40|done  |Concluído       |Pedro da Silva|f9a533f2c78e4a09f87c9e68e442d3fe|\n",
      "|Comprar quod                                          |Item de Compra    |1                |2025-03-19 18:12:50|2025-06-02 21:46:40|done  |Concluído       |Pedro da Silva|f9a533f2c78e4a09f87c9e68e442d3fe|\n",
      "|Atque nostrum eveniet aperiam                         |Tarefa a Ser Feita|2                |2023-12-07 12:50:15|2024-04-17 12:50:15|done  |Concluído       |Jeferson Klau |b4853fc1f03a3a4cec530a98a94d89ad|\n",
      "|Natus cum voluptas accusamus assumenda magni          |Tarefa a Ser Feita|2                |2024-10-18 10:59:40|2024-12-31 10:59:40|done  |Concluído       |Jeferson Klau |b4853fc1f03a3a4cec530a98a94d89ad|\n",
      "|Dolore harum quos omnis maxime facilis                |Tarefa a Ser Feita|2                |2023-10-15 16:00:05|NULL               |todo  |A Fazer         |Jeferson Klau |b4853fc1f03a3a4cec530a98a94d89ad|\n",
      "|Fuga ipsam autem alias commodi                        |Tarefa a Ser Feita|2                |2024-06-03 20:29:11|NULL               |todo  |A Fazer         |Jeferson Klau |b4853fc1f03a3a4cec530a98a94d89ad|\n",
      "|Facilis non                                           |Tarefa a Ser Feita|2                |2024-04-13 01:45:27|2025-03-03 01:45:27|done  |Concluído       |Jeferson Klau |b4853fc1f03a3a4cec530a98a94d89ad|\n",
      "|Quis voluptatem                                       |Tarefa a Ser Feita|2                |2024-11-26 01:43:12|NULL               |todo  |A Fazer         |Jeferson Klau |b4853fc1f03a3a4cec530a98a94d89ad|\n",
      "|Comprar aut                                           |Item de Compra    |1                |2023-10-19 23:56:19|NULL               |todo  |A Fazer         |Pedro da Silva|f9a533f2c78e4a09f87c9e68e442d3fe|\n",
      "|Comprar ea                                            |Item de Compra    |1                |2025-05-21 13:34:09|2025-06-02 20:52:40|done  |Concluído       |Pedro da Silva|f9a533f2c78e4a09f87c9e68e442d3fe|\n",
      "|Sunt beatae                                           |Tarefa a Ser Feita|2                |2023-06-19 12:57:21|2024-01-30 12:57:21|done  |Concluído       |Jeferson Klau |b4853fc1f03a3a4cec530a98a94d89ad|\n",
      "|Comprar voluptatum                                    |Item de Compra    |1                |2024-07-25 01:51:28|2025-04-13 01:51:28|done  |Concluído       |Jeferson Klau |b4853fc1f03a3a4cec530a98a94d89ad|\n",
      "|Comprar doloribus                                     |Item de Compra    |1                |2024-04-01 00:29:52|NULL               |todo  |A Fazer         |Pedro da Silva|f9a533f2c78e4a09f87c9e68e442d3fe|\n",
      "|Ipsum doloremque officiis ipsa assumenda sint         |Tarefa a Ser Feita|2                |2025-03-22 23:24:50|2025-06-02 20:50:40|done  |Concluído       |Jeferson Klau |b4853fc1f03a3a4cec530a98a94d89ad|\n",
      "|Comprar vitae                                         |Item de Compra    |1                |2024-11-21 22:29:32|NULL               |todo  |A Fazer         |Pedro da Silva|f9a533f2c78e4a09f87c9e68e442d3fe|\n",
      "|Beatae architecto nam                                 |Tarefa a Ser Feita|2                |2024-10-05 00:03:48|NULL               |todo  |A Fazer         |Jeferson Klau |b4853fc1f03a3a4cec530a98a94d89ad|\n",
      "|Voluptates minima doloremque ratione                  |Tarefa a Ser Feita|2                |2023-10-11 09:11:00|NULL               |todo  |A Fazer         |Pedro da Silva|f9a533f2c78e4a09f87c9e68e442d3fe|\n",
      "|Nihil ullam mollitia nobis atque                      |Tarefa a Ser Feita|2                |2024-10-24 03:58:26|2025-06-02 21:41:40|done  |Concluído       |Jeferson Klau |b4853fc1f03a3a4cec530a98a94d89ad|\n",
      "|Comprar occaecati                                     |Item de Compra    |1                |2023-09-21 14:34:16|2024-02-11 14:34:16|done  |Concluído       |Jeferson Klau |b4853fc1f03a3a4cec530a98a94d89ad|\n",
      "|Ducimus et repellendus                                |Tarefa a Ser Feita|2                |2024-01-29 18:00:24|2024-02-02 18:00:24|done  |Concluído       |Pedro da Silva|f9a533f2c78e4a09f87c9e68e442d3fe|\n",
      "|Pariatur saepe temporibus mollitia qui inventore omnis|Tarefa a Ser Feita|2                |2024-02-11 03:18:52|2024-10-23 03:18:52|done  |Concluído       |Jeferson Klau |b4853fc1f03a3a4cec530a98a94d89ad|\n",
      "+------------------------------------------------------+------------------+-----------------+-------------------+-------------------+------+----------------+--------------+--------------------------------+\n",
      "\n"
     ]
    }
   ],
   "source": [
    "# Mantém apenas linhas com status definido (done, todo)\n",
    "df = df.filter(col(\"status\").isNotNull())\n",
    "print(\"Linhas após filtro usuário:\", df.count())\n",
    "df.show(100, truncate=False)"
   ]
  },
  {
   "cell_type": "code",
   "execution_count": 12,
   "id": "f5583dd2",
   "metadata": {},
   "outputs": [
    {
     "name": "stdout",
     "output_type": "stream",
     "text": [
      "Linhas após filtro usuário: 37\n",
      "+------------------------------------------------------+------------------+-----------------+-------------------+-------------------+------+----------------+-------------+--------------------------------+\n",
      "|Nome da Tarefa                                        |Tipo da Tarefa    |Tipo da Tarefa ID|Data de Criação    |Data de Conclusão  |status|Status Descrição|Usuário      |ID do Usuário                   |\n",
      "+------------------------------------------------------+------------------+-----------------+-------------------+-------------------+------+----------------+-------------+--------------------------------+\n",
      "|Cum iure exercitationem laboriosam                    |Tarefa a Ser Feita|2                |2024-07-18 22:51:51|2025-02-12 22:51:51|done  |Concluído       |Jeferson Klau|b4853fc1f03a3a4cec530a98a94d89ad|\n",
      "|Asperiores iusto                                      |Tarefa a Ser Feita|2                |2025-05-29 09:07:49|NULL               |todo  |A Fazer         |Jeferson Klau|b4853fc1f03a3a4cec530a98a94d89ad|\n",
      "|Asperiores pariatur voluptatibus magnam               |Tarefa a Ser Feita|2                |2023-09-12 19:56:45|NULL               |todo  |A Fazer         |Jeferson Klau|b4853fc1f03a3a4cec530a98a94d89ad|\n",
      "|Comprar ipsa                                          |Item de Compra    |1                |2024-11-27 13:01:39|2025-02-08 13:01:39|done  |Concluído       |Jeferson Klau|b4853fc1f03a3a4cec530a98a94d89ad|\n",
      "|Comprar tempore                                       |Item de Compra    |1                |2023-06-26 06:33:23|2024-06-15 06:33:23|done  |Concluído       |Jeferson Klau|b4853fc1f03a3a4cec530a98a94d89ad|\n",
      "|Laboriosam dolor                                      |Tarefa a Ser Feita|2                |2023-08-27 09:30:37|NULL               |todo  |A Fazer         |Jeferson Klau|b4853fc1f03a3a4cec530a98a94d89ad|\n",
      "|Blanditiis corrupti quasi                             |Tarefa a Ser Feita|2                |2025-02-05 16:57:46|NULL               |todo  |A Fazer         |Jeferson Klau|b4853fc1f03a3a4cec530a98a94d89ad|\n",
      "|Comprar esse                                          |Item de Compra    |1                |2025-02-13 11:13:26|2025-06-02 20:48:40|done  |Concluído       |Jeferson Klau|b4853fc1f03a3a4cec530a98a94d89ad|\n",
      "|Sunt soluta officia quam nesciunt                     |Tarefa a Ser Feita|2                |2024-03-31 16:41:51|NULL               |todo  |A Fazer         |Jeferson Klau|b4853fc1f03a3a4cec530a98a94d89ad|\n",
      "|Comprar ab                                            |Item de Compra    |1                |2024-11-12 11:14:24|NULL               |todo  |A Fazer         |Jeferson Klau|b4853fc1f03a3a4cec530a98a94d89ad|\n",
      "|Amet beatae esse                                      |Tarefa a Ser Feita|2                |2024-02-10 16:00:34|2024-02-14 16:00:34|done  |Concluído       |Jeferson Klau|b4853fc1f03a3a4cec530a98a94d89ad|\n",
      "|Modi                                                  |Tarefa a Ser Feita|2                |2025-03-12 12:43:39|NULL               |todo  |A Fazer         |Jeferson Klau|b4853fc1f03a3a4cec530a98a94d89ad|\n",
      "|Comprar sed                                           |Item de Compra    |1                |2025-05-25 23:04:16|NULL               |todo  |A Fazer         |Jeferson Klau|b4853fc1f03a3a4cec530a98a94d89ad|\n",
      "|Comprar ullam                                         |Item de Compra    |1                |2024-09-21 07:48:24|2025-01-25 07:48:24|done  |Concluído       |Jeferson Klau|b4853fc1f03a3a4cec530a98a94d89ad|\n",
      "|Ipsa accusantium voluptate                            |Tarefa a Ser Feita|2                |2024-05-19 03:14:54|2025-01-12 03:14:54|done  |Concluído       |Jeferson Klau|b4853fc1f03a3a4cec530a98a94d89ad|\n",
      "|Doloremque excepturi repellendus ad iusto aut         |Tarefa a Ser Feita|2                |2024-07-10 18:55:09|2025-01-16 18:55:09|done  |Concluído       |Jeferson Klau|b4853fc1f03a3a4cec530a98a94d89ad|\n",
      "|Ad iusto culpa                                        |Tarefa a Ser Feita|2                |2023-12-16 05:13:08|NULL               |todo  |A Fazer         |Jeferson Klau|b4853fc1f03a3a4cec530a98a94d89ad|\n",
      "|Rerum animi ducimus vel                               |Tarefa a Ser Feita|2                |2024-10-10 04:20:59|2024-12-13 04:20:59|done  |Concluído       |Jeferson Klau|b4853fc1f03a3a4cec530a98a94d89ad|\n",
      "|Comprar aspernatur                                    |Item de Compra    |1                |2024-03-10 01:25:36|NULL               |todo  |A Fazer         |Jeferson Klau|b4853fc1f03a3a4cec530a98a94d89ad|\n",
      "|Fuga quae corporis dignissimos voluptas dolorem ipsa  |Tarefa a Ser Feita|2                |2024-07-08 13:30:58|NULL               |todo  |A Fazer         |Jeferson Klau|b4853fc1f03a3a4cec530a98a94d89ad|\n",
      "|Facilis illo quibusdam                                |Tarefa a Ser Feita|2                |2024-02-17 00:48:53|2024-05-26 00:48:53|done  |Concluído       |Jeferson Klau|b4853fc1f03a3a4cec530a98a94d89ad|\n",
      "|Minus quisquam quae                                   |Tarefa a Ser Feita|2                |2024-12-07 15:53:54|2025-06-02 21:02:40|done  |Concluído       |Jeferson Klau|b4853fc1f03a3a4cec530a98a94d89ad|\n",
      "|Delectus cum aut rem earum                            |Tarefa a Ser Feita|2                |2023-12-31 11:54:55|2024-06-10 11:54:55|done  |Concluído       |Jeferson Klau|b4853fc1f03a3a4cec530a98a94d89ad|\n",
      "|Nobis fugit earum enim quo ipsa                       |Tarefa a Ser Feita|2                |2025-05-09 03:37:11|NULL               |todo  |A Fazer         |Jeferson Klau|b4853fc1f03a3a4cec530a98a94d89ad|\n",
      "|Atque nostrum eveniet aperiam                         |Tarefa a Ser Feita|2                |2023-12-07 12:50:15|2024-04-17 12:50:15|done  |Concluído       |Jeferson Klau|b4853fc1f03a3a4cec530a98a94d89ad|\n",
      "|Natus cum voluptas accusamus assumenda magni          |Tarefa a Ser Feita|2                |2024-10-18 10:59:40|2024-12-31 10:59:40|done  |Concluído       |Jeferson Klau|b4853fc1f03a3a4cec530a98a94d89ad|\n",
      "|Dolore harum quos omnis maxime facilis                |Tarefa a Ser Feita|2                |2023-10-15 16:00:05|NULL               |todo  |A Fazer         |Jeferson Klau|b4853fc1f03a3a4cec530a98a94d89ad|\n",
      "|Fuga ipsam autem alias commodi                        |Tarefa a Ser Feita|2                |2024-06-03 20:29:11|NULL               |todo  |A Fazer         |Jeferson Klau|b4853fc1f03a3a4cec530a98a94d89ad|\n",
      "|Facilis non                                           |Tarefa a Ser Feita|2                |2024-04-13 01:45:27|2025-03-03 01:45:27|done  |Concluído       |Jeferson Klau|b4853fc1f03a3a4cec530a98a94d89ad|\n",
      "|Quis voluptatem                                       |Tarefa a Ser Feita|2                |2024-11-26 01:43:12|NULL               |todo  |A Fazer         |Jeferson Klau|b4853fc1f03a3a4cec530a98a94d89ad|\n",
      "|Sunt beatae                                           |Tarefa a Ser Feita|2                |2023-06-19 12:57:21|2024-01-30 12:57:21|done  |Concluído       |Jeferson Klau|b4853fc1f03a3a4cec530a98a94d89ad|\n",
      "|Comprar voluptatum                                    |Item de Compra    |1                |2024-07-25 01:51:28|2025-04-13 01:51:28|done  |Concluído       |Jeferson Klau|b4853fc1f03a3a4cec530a98a94d89ad|\n",
      "|Ipsum doloremque officiis ipsa assumenda sint         |Tarefa a Ser Feita|2                |2025-03-22 23:24:50|2025-06-02 20:50:40|done  |Concluído       |Jeferson Klau|b4853fc1f03a3a4cec530a98a94d89ad|\n",
      "|Beatae architecto nam                                 |Tarefa a Ser Feita|2                |2024-10-05 00:03:48|NULL               |todo  |A Fazer         |Jeferson Klau|b4853fc1f03a3a4cec530a98a94d89ad|\n",
      "|Nihil ullam mollitia nobis atque                      |Tarefa a Ser Feita|2                |2024-10-24 03:58:26|2025-06-02 21:41:40|done  |Concluído       |Jeferson Klau|b4853fc1f03a3a4cec530a98a94d89ad|\n",
      "|Comprar occaecati                                     |Item de Compra    |1                |2023-09-21 14:34:16|2024-02-11 14:34:16|done  |Concluído       |Jeferson Klau|b4853fc1f03a3a4cec530a98a94d89ad|\n",
      "|Pariatur saepe temporibus mollitia qui inventore omnis|Tarefa a Ser Feita|2                |2024-02-11 03:18:52|2024-10-23 03:18:52|done  |Concluído       |Jeferson Klau|b4853fc1f03a3a4cec530a98a94d89ad|\n",
      "+------------------------------------------------------+------------------+-----------------+-------------------+-------------------+------+----------------+-------------+--------------------------------+\n",
      "\n"
     ]
    }
   ],
   "source": [
    "# Mantém apenas linhas onde o usuário é 'Jeferson Klau'\n",
    "df = df.filter(col(\"Usuário\") == \"Jeferson Klau\")\n",
    "print(\"Linhas após filtro usuário:\", df.count())\n",
    "df.show(100, truncate=False)"
   ]
  },
  {
   "cell_type": "code",
   "execution_count": 13,
   "id": "5b20d2ef",
   "metadata": {},
   "outputs": [],
   "source": [
    "# Remove a coluna Status Descrição\n",
    "df = df.drop(\"Status Descrição\")\n",
    "\n",
    "# Remove a coluna Tipo da Tarefa ID\n",
    "df = df.drop(\"Tipo da Tarefa ID\")"
   ]
  },
  {
   "cell_type": "code",
   "execution_count": 14,
   "id": "90dc28dc",
   "metadata": {},
   "outputs": [
    {
     "data": {
      "text/plain": [
       "['name',\n",
       " 'task_type',\n",
       " 'created_at',\n",
       " 'completed_at',\n",
       " 'status',\n",
       " 'user',\n",
       " 'user_ID']"
      ]
     },
     "execution_count": 14,
     "metadata": {},
     "output_type": "execute_result"
    }
   ],
   "source": [
    "# Renomeia colunas \n",
    "df = df.withColumnRenamed(\"Nome da Tarefa\", \"name\") \\\n",
    "       .withColumnRenamed(\"Tipo da Tarefa\", \"task_type\") \\\n",
    "       .withColumnRenamed(\"Data de Criação\", \"created_at\") \\\n",
    "       .withColumnRenamed(\"Data de Conclusão\", \"completed_at\") \\\n",
    "       .withColumnRenamed(\"ID do Usuário\", \"user_ID\") \\\n",
    "       .withColumnRenamed(\"Usuário\", \"user\") \\\n",
    "       .withColumnRenamed(\"Status\", \"status\") \n",
    "df.columns"
   ]
  },
  {
   "cell_type": "code",
   "execution_count": 15,
   "id": "929e3b20",
   "metadata": {},
   "outputs": [
    {
     "name": "stdout",
     "output_type": "stream",
     "text": [
      "+------------------------------------------------------+------------------+----------+------------+------+-------------+--------------------------------+-------------+---------------------------------------------------------------------+\n",
      "|name                                                  |task_type         |created_at|completed_at|status|user         |user_ID                         |PK           |SK                                                                   |\n",
      "+------------------------------------------------------+------------------+----------+------------+------+-------------+--------------------------------+-------------+---------------------------------------------------------------------+\n",
      "|Cum iure exercitationem laboriosam                    |Tarefa a Ser Feita|2024-07-18|2025-02-12  |done  |Jeferson Klau|b4853fc1f03a3a4cec530a98a94d89ad|LIST#20240718|ITEM#5feceb66ffc86f38d952786c6d696c79c2dbc239dd4e91b46729d73a27fb57e9|\n",
      "|Asperiores iusto                                      |Tarefa a Ser Feita|2025-05-29|NULL        |todo  |Jeferson Klau|b4853fc1f03a3a4cec530a98a94d89ad|LIST#20250529|ITEM#6b86b273ff34fce19d6b804eff5a3f5747ada4eaa22f1d49c01e52ddb7875b4b|\n",
      "|Asperiores pariatur voluptatibus magnam               |Tarefa a Ser Feita|2023-09-12|NULL        |todo  |Jeferson Klau|b4853fc1f03a3a4cec530a98a94d89ad|LIST#20230912|ITEM#d4735e3a265e16eee03f59718b9b5d03019c07d8b6c51f90da3a666eec13ab35|\n",
      "|Comprar ipsa                                          |Item de Compra    |2024-11-27|2025-02-08  |done  |Jeferson Klau|b4853fc1f03a3a4cec530a98a94d89ad|LIST#20241127|ITEM#4e07408562bedb8b60ce05c1decfe3ad16b72230967de01f640b7e4729b49fce|\n",
      "|Comprar tempore                                       |Item de Compra    |2023-06-26|2024-06-15  |done  |Jeferson Klau|b4853fc1f03a3a4cec530a98a94d89ad|LIST#20230626|ITEM#4b227777d4dd1fc61c6f884f48641d02b4d121d3fd328cb08b5531fcacdabf8a|\n",
      "|Laboriosam dolor                                      |Tarefa a Ser Feita|2023-08-27|NULL        |todo  |Jeferson Klau|b4853fc1f03a3a4cec530a98a94d89ad|LIST#20230827|ITEM#ef2d127de37b942baad06145e54b0c619a1f22327b2ebbcfbec78f5564afe39d|\n",
      "|Blanditiis corrupti quasi                             |Tarefa a Ser Feita|2025-02-05|NULL        |todo  |Jeferson Klau|b4853fc1f03a3a4cec530a98a94d89ad|LIST#20250205|ITEM#e7f6c011776e8db7cd330b54174fd76f7d0216b612387a5ffcfb81e6f0919683|\n",
      "|Comprar esse                                          |Item de Compra    |2025-02-13|2025-06-02  |done  |Jeferson Klau|b4853fc1f03a3a4cec530a98a94d89ad|LIST#20250213|ITEM#7902699be42c8a8e46fbbb4501726517e86b22c56a189f7625a6da49081b2451|\n",
      "|Sunt soluta officia quam nesciunt                     |Tarefa a Ser Feita|2024-03-31|NULL        |todo  |Jeferson Klau|b4853fc1f03a3a4cec530a98a94d89ad|LIST#20240331|ITEM#2c624232cdd221771294dfbb310aca000a0df6ac8b66b696d90ef06fdefb64a3|\n",
      "|Comprar ab                                            |Item de Compra    |2024-11-12|NULL        |todo  |Jeferson Klau|b4853fc1f03a3a4cec530a98a94d89ad|LIST#20241112|ITEM#19581e27de7ced00ff1ce50b2047e7a567c76b1cbaebabe5ef03f7c3017bb5b7|\n",
      "|Amet beatae esse                                      |Tarefa a Ser Feita|2024-02-10|2024-02-14  |done  |Jeferson Klau|b4853fc1f03a3a4cec530a98a94d89ad|LIST#20240210|ITEM#4a44dc15364204a80fe80e9039455cc1608281820fe2b24f1e5233ade6af1dd5|\n",
      "|Modi                                                  |Tarefa a Ser Feita|2025-03-12|NULL        |todo  |Jeferson Klau|b4853fc1f03a3a4cec530a98a94d89ad|LIST#20250312|ITEM#4fc82b26aecb47d2868c4efbe3581732a3e7cbcc6c2efb32062c08170a05eeb8|\n",
      "|Comprar sed                                           |Item de Compra    |2025-05-25|NULL        |todo  |Jeferson Klau|b4853fc1f03a3a4cec530a98a94d89ad|LIST#20250525|ITEM#6b51d431df5d7f141cbececcf79edf3dd861c3b4069f0b11661a3eefacbba918|\n",
      "|Comprar ullam                                         |Item de Compra    |2024-09-21|2025-01-25  |done  |Jeferson Klau|b4853fc1f03a3a4cec530a98a94d89ad|LIST#20240921|ITEM#3fdba35f04dc8c462986c992bcf875546257113072a909c162f7e470e581e278|\n",
      "|Ipsa accusantium voluptate                            |Tarefa a Ser Feita|2024-05-19|2025-01-12  |done  |Jeferson Klau|b4853fc1f03a3a4cec530a98a94d89ad|LIST#20240519|ITEM#8527a891e224136950ff32ca212b45bc93f69fbb801c3b1ebedac52775f99e61|\n",
      "|Doloremque excepturi repellendus ad iusto aut         |Tarefa a Ser Feita|2024-07-10|2025-01-16  |done  |Jeferson Klau|b4853fc1f03a3a4cec530a98a94d89ad|LIST#20240710|ITEM#e629fa6598d732768f7c726b4b621285f9c3b85303900aa912017db7617d8bdb|\n",
      "|Ad iusto culpa                                        |Tarefa a Ser Feita|2023-12-16|NULL        |todo  |Jeferson Klau|b4853fc1f03a3a4cec530a98a94d89ad|LIST#20231216|ITEM#b17ef6d19c7a5b1ee83b907c595526dcb1eb06db8227d650d5dda0a9f4ce8cd9|\n",
      "|Rerum animi ducimus vel                               |Tarefa a Ser Feita|2024-10-10|2024-12-13  |done  |Jeferson Klau|b4853fc1f03a3a4cec530a98a94d89ad|LIST#20241010|ITEM#4523540f1504cd17100c4835e85b7eefd49911580f8efff0599a8f283be6b9e3|\n",
      "|Comprar aspernatur                                    |Item de Compra    |2024-03-10|NULL        |todo  |Jeferson Klau|b4853fc1f03a3a4cec530a98a94d89ad|LIST#20240310|ITEM#4ec9599fc203d176a301536c2e091a19bc852759b255bd6818810a42c5fed14a|\n",
      "|Fuga quae corporis dignissimos voluptas dolorem ipsa  |Tarefa a Ser Feita|2024-07-08|NULL        |todo  |Jeferson Klau|b4853fc1f03a3a4cec530a98a94d89ad|LIST#20240708|ITEM#9400f1b21cb527d7fa3d3eabba93557a18ebe7a2ca4e471cfe5e4c5b4ca7f767|\n",
      "|Facilis illo quibusdam                                |Tarefa a Ser Feita|2024-02-17|2024-05-26  |done  |Jeferson Klau|b4853fc1f03a3a4cec530a98a94d89ad|LIST#20240217|ITEM#f5ca38f748a1d6eaf726b8a42fb575c3c71f1864a8143301782de13da2d9202b|\n",
      "|Minus quisquam quae                                   |Tarefa a Ser Feita|2024-12-07|2025-06-02  |done  |Jeferson Klau|b4853fc1f03a3a4cec530a98a94d89ad|LIST#20241207|ITEM#6f4b6612125fb3a0daecd2799dfd6c9c299424fd920f9b308110a2c1fbd8f443|\n",
      "|Delectus cum aut rem earum                            |Tarefa a Ser Feita|2023-12-31|2024-06-10  |done  |Jeferson Klau|b4853fc1f03a3a4cec530a98a94d89ad|LIST#20231231|ITEM#785f3ec7eb32f30b90cd0fcf3657d388b5ff4297f2f9716ff66e9b69c05ddd09|\n",
      "|Nobis fugit earum enim quo ipsa                       |Tarefa a Ser Feita|2025-05-09|NULL        |todo  |Jeferson Klau|b4853fc1f03a3a4cec530a98a94d89ad|LIST#20250509|ITEM#535fa30d7e25dd8a49f1536779734ec8286108d115da5045d77f3b4185d8f790|\n",
      "|Atque nostrum eveniet aperiam                         |Tarefa a Ser Feita|2023-12-07|2024-04-17  |done  |Jeferson Klau|b4853fc1f03a3a4cec530a98a94d89ad|LIST#20231207|ITEM#c2356069e9d1e79ca924378153cfbbfb4d4416b1f99d41a2940bfdb66c5319db|\n",
      "|Natus cum voluptas accusamus assumenda magni          |Tarefa a Ser Feita|2024-10-18|2024-12-31  |done  |Jeferson Klau|b4853fc1f03a3a4cec530a98a94d89ad|LIST#20241018|ITEM#b7a56873cd771f2c446d369b649430b65a756ba278ff97ec81bb6f55b2e73569|\n",
      "|Dolore harum quos omnis maxime facilis                |Tarefa a Ser Feita|2023-10-15|NULL        |todo  |Jeferson Klau|b4853fc1f03a3a4cec530a98a94d89ad|LIST#20231015|ITEM#5f9c4ab08cac7457e9111a30e4664920607ea2c115a1433d7be98e97e64244ca|\n",
      "|Fuga ipsam autem alias commodi                        |Tarefa a Ser Feita|2024-06-03|NULL        |todo  |Jeferson Klau|b4853fc1f03a3a4cec530a98a94d89ad|LIST#20240603|ITEM#670671cd97404156226e507973f2ab8330d3022ca96e0c93bdbdb320c41adcaf|\n",
      "|Facilis non                                           |Tarefa a Ser Feita|2024-04-13|2025-03-03  |done  |Jeferson Klau|b4853fc1f03a3a4cec530a98a94d89ad|LIST#20240413|ITEM#59e19706d51d39f66711c2653cd7eb1291c94d9b55eb14bda74ce4dc636d015a|\n",
      "|Quis voluptatem                                       |Tarefa a Ser Feita|2024-11-26|NULL        |todo  |Jeferson Klau|b4853fc1f03a3a4cec530a98a94d89ad|LIST#20241126|ITEM#35135aaa6cc23891b40cb3f378c53a17a1127210ce60e125ccf03efcfdaec458|\n",
      "|Sunt beatae                                           |Tarefa a Ser Feita|2023-06-19|2024-01-30  |done  |Jeferson Klau|b4853fc1f03a3a4cec530a98a94d89ad|LIST#20230619|ITEM#624b60c58c9d8bfb6ff1886c2fd605d2adeb6ea4da576068201b6c6958ce93f4|\n",
      "|Comprar voluptatum                                    |Item de Compra    |2024-07-25|2025-04-13  |done  |Jeferson Klau|b4853fc1f03a3a4cec530a98a94d89ad|LIST#20240725|ITEM#eb1e33e8a81b697b75855af6bfcdbcbf7cbbde9f94962ceaec1ed8af21f5a50f|\n",
      "|Ipsum doloremque officiis ipsa assumenda sint         |Tarefa a Ser Feita|2025-03-22|2025-06-02  |done  |Jeferson Klau|b4853fc1f03a3a4cec530a98a94d89ad|LIST#20250322|ITEM#e29c9c180c6279b0b02abd6a1801c7c04082cf486ec027aa13515e4f3884bb6b|\n",
      "|Beatae architecto nam                                 |Tarefa a Ser Feita|2024-10-05|NULL        |todo  |Jeferson Klau|b4853fc1f03a3a4cec530a98a94d89ad|LIST#20241005|ITEM#c6f3ac57944a531490cd39902d0f777715fd005efac9a30622d5f5205e7f6894|\n",
      "|Nihil ullam mollitia nobis atque                      |Tarefa a Ser Feita|2024-10-24|2025-06-02  |done  |Jeferson Klau|b4853fc1f03a3a4cec530a98a94d89ad|LIST#20241024|ITEM#86e50149658661312a9e0b35558d84f6c6d3da797f552a9657fe0558ca40cdef|\n",
      "|Comprar occaecati                                     |Item de Compra    |2023-09-21|2024-02-11  |done  |Jeferson Klau|b4853fc1f03a3a4cec530a98a94d89ad|LIST#20230921|ITEM#9f14025af0065b30e47e23ebb3b491d39ae8ed17d33739e5ff3827ffb3634953|\n",
      "|Pariatur saepe temporibus mollitia qui inventore omnis|Tarefa a Ser Feita|2024-02-11|2024-10-23  |done  |Jeferson Klau|b4853fc1f03a3a4cec530a98a94d89ad|LIST#20240211|ITEM#76a50887d8f1c2e9301755428990ad81479ee21c25b43215cf524541e0503269|\n",
      "+------------------------------------------------------+------------------+----------+------------+------+-------------+--------------------------------+-------------+---------------------------------------------------------------------+\n",
      "\n"
     ]
    }
   ],
   "source": [
    "\n",
    "df = df.withColumn(\"created_at\", date_format(col(\"created_at\"), \"yyyy-MM-dd\"))\n",
    "df = df.withColumn(\"completed_at\", date_format(col(\"completed_at\"), \"yyyy-MM-dd\"))\n",
    "\n",
    "\n",
    "# Cria a coluna 'PK' no formato LIST#yyyyMMdd\n",
    "df = df.withColumn(\"PK\", concat(lit(\"LIST#\"), date_format(col(\"created_at\"), \"yyyyMMdd\")))\n",
    "\n",
    "df = df.withColumn(\"row_id\", monotonically_increasing_id())\n",
    "df = df.withColumn(\"itemId\", sha2(col(\"row_id\").cast(\"string\"), 256))\n",
    "df = df.withColumn(\"SK\", concat(lit(\"ITEM#\"), col(\"itemId\")))\n",
    "\n",
    "df = df.drop(\"row_id\", \"itemId\", \"date\")\n",
    "\n",
    "# Visualiza os dados\n",
    "df.show(1000, truncate=False)"
   ]
  },
  {
   "cell_type": "code",
   "execution_count": 16,
   "id": "d0cccc5e",
   "metadata": {},
   "outputs": [],
   "source": [
    "from pyspark.sql.functions import col\n",
    "\n",
    "# Remove valores nulos e força tipo string na coluna \"name\"\n",
    "df_nonull = df.filter(col(\"name\").isNotNull()).withColumn(\"name\", col(\"name\").cast(\"string\"))\n"
   ]
  },
  {
   "cell_type": "code",
   "execution_count": 17,
   "id": "1626ae5b",
   "metadata": {},
   "outputs": [],
   "source": [
    "# Cria a coluna 'PK' no formato LIST#yyyyMMdd\n",
    "df = df.withColumn(\"PK\", concat(lit(\"LIST#\"), date_format(col(\"created_at\"), \"yyyyMMdd\")))"
   ]
  },
  {
   "cell_type": "code",
   "execution_count": 18,
   "id": "19ee5989",
   "metadata": {},
   "outputs": [],
   "source": [
    "df = df.withColumn(\"row_id\", monotonically_increasing_id())"
   ]
  },
  {
   "cell_type": "code",
   "execution_count": 19,
   "id": "2b30d410",
   "metadata": {},
   "outputs": [],
   "source": [
    "df = df.withColumn(\"itemId\", sha2(col(\"row_id\").cast(\"string\"), 256))"
   ]
  },
  {
   "cell_type": "code",
   "execution_count": 20,
   "id": "7470ed2c",
   "metadata": {},
   "outputs": [],
   "source": [
    "df = df.withColumn(\"SK\", concat(lit(\"ITEM#\"), col(\"itemId\")))"
   ]
  },
  {
   "cell_type": "code",
   "execution_count": 21,
   "id": "b592fcaf",
   "metadata": {},
   "outputs": [],
   "source": [
    "df = df.drop(\"row_id\", \"itemId\", \"date\")"
   ]
  },
  {
   "cell_type": "code",
   "execution_count": 22,
   "id": "03923fed",
   "metadata": {},
   "outputs": [
    {
     "name": "stdout",
     "output_type": "stream",
     "text": [
      "+------------------------------------------------------+------------------+----------+------------+------+-------------+--------------------------------+-------------+---------------------------------------------------------------------+\n",
      "|name                                                  |task_type         |created_at|completed_at|status|user         |user_ID                         |PK           |SK                                                                   |\n",
      "+------------------------------------------------------+------------------+----------+------------+------+-------------+--------------------------------+-------------+---------------------------------------------------------------------+\n",
      "|Cum iure exercitationem laboriosam                    |Tarefa a Ser Feita|2024-07-18|2025-02-12  |done  |Jeferson Klau|b4853fc1f03a3a4cec530a98a94d89ad|LIST#20240718|ITEM#5feceb66ffc86f38d952786c6d696c79c2dbc239dd4e91b46729d73a27fb57e9|\n",
      "|Asperiores iusto                                      |Tarefa a Ser Feita|2025-05-29|NULL        |todo  |Jeferson Klau|b4853fc1f03a3a4cec530a98a94d89ad|LIST#20250529|ITEM#6b86b273ff34fce19d6b804eff5a3f5747ada4eaa22f1d49c01e52ddb7875b4b|\n",
      "|Asperiores pariatur voluptatibus magnam               |Tarefa a Ser Feita|2023-09-12|NULL        |todo  |Jeferson Klau|b4853fc1f03a3a4cec530a98a94d89ad|LIST#20230912|ITEM#d4735e3a265e16eee03f59718b9b5d03019c07d8b6c51f90da3a666eec13ab35|\n",
      "|Comprar ipsa                                          |Item de Compra    |2024-11-27|2025-02-08  |done  |Jeferson Klau|b4853fc1f03a3a4cec530a98a94d89ad|LIST#20241127|ITEM#4e07408562bedb8b60ce05c1decfe3ad16b72230967de01f640b7e4729b49fce|\n",
      "|Comprar tempore                                       |Item de Compra    |2023-06-26|2024-06-15  |done  |Jeferson Klau|b4853fc1f03a3a4cec530a98a94d89ad|LIST#20230626|ITEM#4b227777d4dd1fc61c6f884f48641d02b4d121d3fd328cb08b5531fcacdabf8a|\n",
      "|Laboriosam dolor                                      |Tarefa a Ser Feita|2023-08-27|NULL        |todo  |Jeferson Klau|b4853fc1f03a3a4cec530a98a94d89ad|LIST#20230827|ITEM#ef2d127de37b942baad06145e54b0c619a1f22327b2ebbcfbec78f5564afe39d|\n",
      "|Blanditiis corrupti quasi                             |Tarefa a Ser Feita|2025-02-05|NULL        |todo  |Jeferson Klau|b4853fc1f03a3a4cec530a98a94d89ad|LIST#20250205|ITEM#e7f6c011776e8db7cd330b54174fd76f7d0216b612387a5ffcfb81e6f0919683|\n",
      "|Comprar esse                                          |Item de Compra    |2025-02-13|2025-06-02  |done  |Jeferson Klau|b4853fc1f03a3a4cec530a98a94d89ad|LIST#20250213|ITEM#7902699be42c8a8e46fbbb4501726517e86b22c56a189f7625a6da49081b2451|\n",
      "|Sunt soluta officia quam nesciunt                     |Tarefa a Ser Feita|2024-03-31|NULL        |todo  |Jeferson Klau|b4853fc1f03a3a4cec530a98a94d89ad|LIST#20240331|ITEM#2c624232cdd221771294dfbb310aca000a0df6ac8b66b696d90ef06fdefb64a3|\n",
      "|Comprar ab                                            |Item de Compra    |2024-11-12|NULL        |todo  |Jeferson Klau|b4853fc1f03a3a4cec530a98a94d89ad|LIST#20241112|ITEM#19581e27de7ced00ff1ce50b2047e7a567c76b1cbaebabe5ef03f7c3017bb5b7|\n",
      "|Amet beatae esse                                      |Tarefa a Ser Feita|2024-02-10|2024-02-14  |done  |Jeferson Klau|b4853fc1f03a3a4cec530a98a94d89ad|LIST#20240210|ITEM#4a44dc15364204a80fe80e9039455cc1608281820fe2b24f1e5233ade6af1dd5|\n",
      "|Modi                                                  |Tarefa a Ser Feita|2025-03-12|NULL        |todo  |Jeferson Klau|b4853fc1f03a3a4cec530a98a94d89ad|LIST#20250312|ITEM#4fc82b26aecb47d2868c4efbe3581732a3e7cbcc6c2efb32062c08170a05eeb8|\n",
      "|Comprar sed                                           |Item de Compra    |2025-05-25|NULL        |todo  |Jeferson Klau|b4853fc1f03a3a4cec530a98a94d89ad|LIST#20250525|ITEM#6b51d431df5d7f141cbececcf79edf3dd861c3b4069f0b11661a3eefacbba918|\n",
      "|Comprar ullam                                         |Item de Compra    |2024-09-21|2025-01-25  |done  |Jeferson Klau|b4853fc1f03a3a4cec530a98a94d89ad|LIST#20240921|ITEM#3fdba35f04dc8c462986c992bcf875546257113072a909c162f7e470e581e278|\n",
      "|Ipsa accusantium voluptate                            |Tarefa a Ser Feita|2024-05-19|2025-01-12  |done  |Jeferson Klau|b4853fc1f03a3a4cec530a98a94d89ad|LIST#20240519|ITEM#8527a891e224136950ff32ca212b45bc93f69fbb801c3b1ebedac52775f99e61|\n",
      "|Doloremque excepturi repellendus ad iusto aut         |Tarefa a Ser Feita|2024-07-10|2025-01-16  |done  |Jeferson Klau|b4853fc1f03a3a4cec530a98a94d89ad|LIST#20240710|ITEM#e629fa6598d732768f7c726b4b621285f9c3b85303900aa912017db7617d8bdb|\n",
      "|Ad iusto culpa                                        |Tarefa a Ser Feita|2023-12-16|NULL        |todo  |Jeferson Klau|b4853fc1f03a3a4cec530a98a94d89ad|LIST#20231216|ITEM#b17ef6d19c7a5b1ee83b907c595526dcb1eb06db8227d650d5dda0a9f4ce8cd9|\n",
      "|Rerum animi ducimus vel                               |Tarefa a Ser Feita|2024-10-10|2024-12-13  |done  |Jeferson Klau|b4853fc1f03a3a4cec530a98a94d89ad|LIST#20241010|ITEM#4523540f1504cd17100c4835e85b7eefd49911580f8efff0599a8f283be6b9e3|\n",
      "|Comprar aspernatur                                    |Item de Compra    |2024-03-10|NULL        |todo  |Jeferson Klau|b4853fc1f03a3a4cec530a98a94d89ad|LIST#20240310|ITEM#4ec9599fc203d176a301536c2e091a19bc852759b255bd6818810a42c5fed14a|\n",
      "|Fuga quae corporis dignissimos voluptas dolorem ipsa  |Tarefa a Ser Feita|2024-07-08|NULL        |todo  |Jeferson Klau|b4853fc1f03a3a4cec530a98a94d89ad|LIST#20240708|ITEM#9400f1b21cb527d7fa3d3eabba93557a18ebe7a2ca4e471cfe5e4c5b4ca7f767|\n",
      "|Facilis illo quibusdam                                |Tarefa a Ser Feita|2024-02-17|2024-05-26  |done  |Jeferson Klau|b4853fc1f03a3a4cec530a98a94d89ad|LIST#20240217|ITEM#f5ca38f748a1d6eaf726b8a42fb575c3c71f1864a8143301782de13da2d9202b|\n",
      "|Minus quisquam quae                                   |Tarefa a Ser Feita|2024-12-07|2025-06-02  |done  |Jeferson Klau|b4853fc1f03a3a4cec530a98a94d89ad|LIST#20241207|ITEM#6f4b6612125fb3a0daecd2799dfd6c9c299424fd920f9b308110a2c1fbd8f443|\n",
      "|Delectus cum aut rem earum                            |Tarefa a Ser Feita|2023-12-31|2024-06-10  |done  |Jeferson Klau|b4853fc1f03a3a4cec530a98a94d89ad|LIST#20231231|ITEM#785f3ec7eb32f30b90cd0fcf3657d388b5ff4297f2f9716ff66e9b69c05ddd09|\n",
      "|Nobis fugit earum enim quo ipsa                       |Tarefa a Ser Feita|2025-05-09|NULL        |todo  |Jeferson Klau|b4853fc1f03a3a4cec530a98a94d89ad|LIST#20250509|ITEM#535fa30d7e25dd8a49f1536779734ec8286108d115da5045d77f3b4185d8f790|\n",
      "|Atque nostrum eveniet aperiam                         |Tarefa a Ser Feita|2023-12-07|2024-04-17  |done  |Jeferson Klau|b4853fc1f03a3a4cec530a98a94d89ad|LIST#20231207|ITEM#c2356069e9d1e79ca924378153cfbbfb4d4416b1f99d41a2940bfdb66c5319db|\n",
      "|Natus cum voluptas accusamus assumenda magni          |Tarefa a Ser Feita|2024-10-18|2024-12-31  |done  |Jeferson Klau|b4853fc1f03a3a4cec530a98a94d89ad|LIST#20241018|ITEM#b7a56873cd771f2c446d369b649430b65a756ba278ff97ec81bb6f55b2e73569|\n",
      "|Dolore harum quos omnis maxime facilis                |Tarefa a Ser Feita|2023-10-15|NULL        |todo  |Jeferson Klau|b4853fc1f03a3a4cec530a98a94d89ad|LIST#20231015|ITEM#5f9c4ab08cac7457e9111a30e4664920607ea2c115a1433d7be98e97e64244ca|\n",
      "|Fuga ipsam autem alias commodi                        |Tarefa a Ser Feita|2024-06-03|NULL        |todo  |Jeferson Klau|b4853fc1f03a3a4cec530a98a94d89ad|LIST#20240603|ITEM#670671cd97404156226e507973f2ab8330d3022ca96e0c93bdbdb320c41adcaf|\n",
      "|Facilis non                                           |Tarefa a Ser Feita|2024-04-13|2025-03-03  |done  |Jeferson Klau|b4853fc1f03a3a4cec530a98a94d89ad|LIST#20240413|ITEM#59e19706d51d39f66711c2653cd7eb1291c94d9b55eb14bda74ce4dc636d015a|\n",
      "|Quis voluptatem                                       |Tarefa a Ser Feita|2024-11-26|NULL        |todo  |Jeferson Klau|b4853fc1f03a3a4cec530a98a94d89ad|LIST#20241126|ITEM#35135aaa6cc23891b40cb3f378c53a17a1127210ce60e125ccf03efcfdaec458|\n",
      "|Sunt beatae                                           |Tarefa a Ser Feita|2023-06-19|2024-01-30  |done  |Jeferson Klau|b4853fc1f03a3a4cec530a98a94d89ad|LIST#20230619|ITEM#624b60c58c9d8bfb6ff1886c2fd605d2adeb6ea4da576068201b6c6958ce93f4|\n",
      "|Comprar voluptatum                                    |Item de Compra    |2024-07-25|2025-04-13  |done  |Jeferson Klau|b4853fc1f03a3a4cec530a98a94d89ad|LIST#20240725|ITEM#eb1e33e8a81b697b75855af6bfcdbcbf7cbbde9f94962ceaec1ed8af21f5a50f|\n",
      "|Ipsum doloremque officiis ipsa assumenda sint         |Tarefa a Ser Feita|2025-03-22|2025-06-02  |done  |Jeferson Klau|b4853fc1f03a3a4cec530a98a94d89ad|LIST#20250322|ITEM#e29c9c180c6279b0b02abd6a1801c7c04082cf486ec027aa13515e4f3884bb6b|\n",
      "|Beatae architecto nam                                 |Tarefa a Ser Feita|2024-10-05|NULL        |todo  |Jeferson Klau|b4853fc1f03a3a4cec530a98a94d89ad|LIST#20241005|ITEM#c6f3ac57944a531490cd39902d0f777715fd005efac9a30622d5f5205e7f6894|\n",
      "|Nihil ullam mollitia nobis atque                      |Tarefa a Ser Feita|2024-10-24|2025-06-02  |done  |Jeferson Klau|b4853fc1f03a3a4cec530a98a94d89ad|LIST#20241024|ITEM#86e50149658661312a9e0b35558d84f6c6d3da797f552a9657fe0558ca40cdef|\n",
      "|Comprar occaecati                                     |Item de Compra    |2023-09-21|2024-02-11  |done  |Jeferson Klau|b4853fc1f03a3a4cec530a98a94d89ad|LIST#20230921|ITEM#9f14025af0065b30e47e23ebb3b491d39ae8ed17d33739e5ff3827ffb3634953|\n",
      "|Pariatur saepe temporibus mollitia qui inventore omnis|Tarefa a Ser Feita|2024-02-11|2024-10-23  |done  |Jeferson Klau|b4853fc1f03a3a4cec530a98a94d89ad|LIST#20240211|ITEM#76a50887d8f1c2e9301755428990ad81479ee21c25b43215cf524541e0503269|\n",
      "+------------------------------------------------------+------------------+----------+------------+------+-------------+--------------------------------+-------------+---------------------------------------------------------------------+\n",
      "\n"
     ]
    }
   ],
   "source": [
    "# Visualiza os dados\n",
    "df.show(1000, truncate=False)"
   ]
  },
  {
   "cell_type": "code",
   "execution_count": 23,
   "id": "1728433e",
   "metadata": {},
   "outputs": [],
   "source": [
    "from dotenv import load_dotenv\n",
    "\n",
    "load_dotenv()\n",
    "USER_ID = os.getenv(\"USER_ID\")\n",
    "\n",
    "df_translated = df.withColumn(\"user_ID\", lit(USER_ID))"
   ]
  },
  {
   "cell_type": "code",
   "execution_count": 24,
   "id": "cf5b0a49",
   "metadata": {},
   "outputs": [
    {
     "name": "stdout",
     "output_type": "stream",
     "text": [
      "+-------------+---------------------------------------------------------------------+----------+------------------------------------------------------+------+------------------+------------+-------------+--------------------------------+\n",
      "|PK           |SK                                                                   |created_at|name                                                  |status|task_type         |completed_at|user         |user_ID                         |\n",
      "+-------------+---------------------------------------------------------------------+----------+------------------------------------------------------+------+------------------+------------+-------------+--------------------------------+\n",
      "|LIST#20240718|ITEM#5feceb66ffc86f38d952786c6d696c79c2dbc239dd4e91b46729d73a27fb57e9|2024-07-18|Cum iure exercitationem laboriosam                    |done  |Tarefa a Ser Feita|2025-02-12  |Jeferson Klau|b4853fc1f03a3a4cec530a98a94d89ad|\n",
      "|LIST#20250529|ITEM#6b86b273ff34fce19d6b804eff5a3f5747ada4eaa22f1d49c01e52ddb7875b4b|2025-05-29|Asperiores iusto                                      |todo  |Tarefa a Ser Feita|NULL        |Jeferson Klau|b4853fc1f03a3a4cec530a98a94d89ad|\n",
      "|LIST#20230912|ITEM#d4735e3a265e16eee03f59718b9b5d03019c07d8b6c51f90da3a666eec13ab35|2023-09-12|Asperiores pariatur voluptatibus magnam               |todo  |Tarefa a Ser Feita|NULL        |Jeferson Klau|b4853fc1f03a3a4cec530a98a94d89ad|\n",
      "|LIST#20241127|ITEM#4e07408562bedb8b60ce05c1decfe3ad16b72230967de01f640b7e4729b49fce|2024-11-27|Comprar ipsa                                          |done  |Item de Compra    |2025-02-08  |Jeferson Klau|b4853fc1f03a3a4cec530a98a94d89ad|\n",
      "|LIST#20230626|ITEM#4b227777d4dd1fc61c6f884f48641d02b4d121d3fd328cb08b5531fcacdabf8a|2023-06-26|Comprar tempore                                       |done  |Item de Compra    |2024-06-15  |Jeferson Klau|b4853fc1f03a3a4cec530a98a94d89ad|\n",
      "|LIST#20230827|ITEM#ef2d127de37b942baad06145e54b0c619a1f22327b2ebbcfbec78f5564afe39d|2023-08-27|Laboriosam dolor                                      |todo  |Tarefa a Ser Feita|NULL        |Jeferson Klau|b4853fc1f03a3a4cec530a98a94d89ad|\n",
      "|LIST#20250205|ITEM#e7f6c011776e8db7cd330b54174fd76f7d0216b612387a5ffcfb81e6f0919683|2025-02-05|Blanditiis corrupti quasi                             |todo  |Tarefa a Ser Feita|NULL        |Jeferson Klau|b4853fc1f03a3a4cec530a98a94d89ad|\n",
      "|LIST#20250213|ITEM#7902699be42c8a8e46fbbb4501726517e86b22c56a189f7625a6da49081b2451|2025-02-13|Comprar esse                                          |done  |Item de Compra    |2025-06-02  |Jeferson Klau|b4853fc1f03a3a4cec530a98a94d89ad|\n",
      "|LIST#20240331|ITEM#2c624232cdd221771294dfbb310aca000a0df6ac8b66b696d90ef06fdefb64a3|2024-03-31|Sunt soluta officia quam nesciunt                     |todo  |Tarefa a Ser Feita|NULL        |Jeferson Klau|b4853fc1f03a3a4cec530a98a94d89ad|\n",
      "|LIST#20241112|ITEM#19581e27de7ced00ff1ce50b2047e7a567c76b1cbaebabe5ef03f7c3017bb5b7|2024-11-12|Comprar ab                                            |todo  |Item de Compra    |NULL        |Jeferson Klau|b4853fc1f03a3a4cec530a98a94d89ad|\n",
      "|LIST#20240210|ITEM#4a44dc15364204a80fe80e9039455cc1608281820fe2b24f1e5233ade6af1dd5|2024-02-10|Amet beatae esse                                      |done  |Tarefa a Ser Feita|2024-02-14  |Jeferson Klau|b4853fc1f03a3a4cec530a98a94d89ad|\n",
      "|LIST#20250312|ITEM#4fc82b26aecb47d2868c4efbe3581732a3e7cbcc6c2efb32062c08170a05eeb8|2025-03-12|Modi                                                  |todo  |Tarefa a Ser Feita|NULL        |Jeferson Klau|b4853fc1f03a3a4cec530a98a94d89ad|\n",
      "|LIST#20250525|ITEM#6b51d431df5d7f141cbececcf79edf3dd861c3b4069f0b11661a3eefacbba918|2025-05-25|Comprar sed                                           |todo  |Item de Compra    |NULL        |Jeferson Klau|b4853fc1f03a3a4cec530a98a94d89ad|\n",
      "|LIST#20240921|ITEM#3fdba35f04dc8c462986c992bcf875546257113072a909c162f7e470e581e278|2024-09-21|Comprar ullam                                         |done  |Item de Compra    |2025-01-25  |Jeferson Klau|b4853fc1f03a3a4cec530a98a94d89ad|\n",
      "|LIST#20240519|ITEM#8527a891e224136950ff32ca212b45bc93f69fbb801c3b1ebedac52775f99e61|2024-05-19|Ipsa accusantium voluptate                            |done  |Tarefa a Ser Feita|2025-01-12  |Jeferson Klau|b4853fc1f03a3a4cec530a98a94d89ad|\n",
      "|LIST#20240710|ITEM#e629fa6598d732768f7c726b4b621285f9c3b85303900aa912017db7617d8bdb|2024-07-10|Doloremque excepturi repellendus ad iusto aut         |done  |Tarefa a Ser Feita|2025-01-16  |Jeferson Klau|b4853fc1f03a3a4cec530a98a94d89ad|\n",
      "|LIST#20231216|ITEM#b17ef6d19c7a5b1ee83b907c595526dcb1eb06db8227d650d5dda0a9f4ce8cd9|2023-12-16|Ad iusto culpa                                        |todo  |Tarefa a Ser Feita|NULL        |Jeferson Klau|b4853fc1f03a3a4cec530a98a94d89ad|\n",
      "|LIST#20241010|ITEM#4523540f1504cd17100c4835e85b7eefd49911580f8efff0599a8f283be6b9e3|2024-10-10|Rerum animi ducimus vel                               |done  |Tarefa a Ser Feita|2024-12-13  |Jeferson Klau|b4853fc1f03a3a4cec530a98a94d89ad|\n",
      "|LIST#20240310|ITEM#4ec9599fc203d176a301536c2e091a19bc852759b255bd6818810a42c5fed14a|2024-03-10|Comprar aspernatur                                    |todo  |Item de Compra    |NULL        |Jeferson Klau|b4853fc1f03a3a4cec530a98a94d89ad|\n",
      "|LIST#20240708|ITEM#9400f1b21cb527d7fa3d3eabba93557a18ebe7a2ca4e471cfe5e4c5b4ca7f767|2024-07-08|Fuga quae corporis dignissimos voluptas dolorem ipsa  |todo  |Tarefa a Ser Feita|NULL        |Jeferson Klau|b4853fc1f03a3a4cec530a98a94d89ad|\n",
      "|LIST#20240217|ITEM#f5ca38f748a1d6eaf726b8a42fb575c3c71f1864a8143301782de13da2d9202b|2024-02-17|Facilis illo quibusdam                                |done  |Tarefa a Ser Feita|2024-05-26  |Jeferson Klau|b4853fc1f03a3a4cec530a98a94d89ad|\n",
      "|LIST#20241207|ITEM#6f4b6612125fb3a0daecd2799dfd6c9c299424fd920f9b308110a2c1fbd8f443|2024-12-07|Minus quisquam quae                                   |done  |Tarefa a Ser Feita|2025-06-02  |Jeferson Klau|b4853fc1f03a3a4cec530a98a94d89ad|\n",
      "|LIST#20231231|ITEM#785f3ec7eb32f30b90cd0fcf3657d388b5ff4297f2f9716ff66e9b69c05ddd09|2023-12-31|Delectus cum aut rem earum                            |done  |Tarefa a Ser Feita|2024-06-10  |Jeferson Klau|b4853fc1f03a3a4cec530a98a94d89ad|\n",
      "|LIST#20250509|ITEM#535fa30d7e25dd8a49f1536779734ec8286108d115da5045d77f3b4185d8f790|2025-05-09|Nobis fugit earum enim quo ipsa                       |todo  |Tarefa a Ser Feita|NULL        |Jeferson Klau|b4853fc1f03a3a4cec530a98a94d89ad|\n",
      "|LIST#20231207|ITEM#c2356069e9d1e79ca924378153cfbbfb4d4416b1f99d41a2940bfdb66c5319db|2023-12-07|Atque nostrum eveniet aperiam                         |done  |Tarefa a Ser Feita|2024-04-17  |Jeferson Klau|b4853fc1f03a3a4cec530a98a94d89ad|\n",
      "|LIST#20241018|ITEM#b7a56873cd771f2c446d369b649430b65a756ba278ff97ec81bb6f55b2e73569|2024-10-18|Natus cum voluptas accusamus assumenda magni          |done  |Tarefa a Ser Feita|2024-12-31  |Jeferson Klau|b4853fc1f03a3a4cec530a98a94d89ad|\n",
      "|LIST#20231015|ITEM#5f9c4ab08cac7457e9111a30e4664920607ea2c115a1433d7be98e97e64244ca|2023-10-15|Dolore harum quos omnis maxime facilis                |todo  |Tarefa a Ser Feita|NULL        |Jeferson Klau|b4853fc1f03a3a4cec530a98a94d89ad|\n",
      "|LIST#20240603|ITEM#670671cd97404156226e507973f2ab8330d3022ca96e0c93bdbdb320c41adcaf|2024-06-03|Fuga ipsam autem alias commodi                        |todo  |Tarefa a Ser Feita|NULL        |Jeferson Klau|b4853fc1f03a3a4cec530a98a94d89ad|\n",
      "|LIST#20240413|ITEM#59e19706d51d39f66711c2653cd7eb1291c94d9b55eb14bda74ce4dc636d015a|2024-04-13|Facilis non                                           |done  |Tarefa a Ser Feita|2025-03-03  |Jeferson Klau|b4853fc1f03a3a4cec530a98a94d89ad|\n",
      "|LIST#20241126|ITEM#35135aaa6cc23891b40cb3f378c53a17a1127210ce60e125ccf03efcfdaec458|2024-11-26|Quis voluptatem                                       |todo  |Tarefa a Ser Feita|NULL        |Jeferson Klau|b4853fc1f03a3a4cec530a98a94d89ad|\n",
      "|LIST#20230619|ITEM#624b60c58c9d8bfb6ff1886c2fd605d2adeb6ea4da576068201b6c6958ce93f4|2023-06-19|Sunt beatae                                           |done  |Tarefa a Ser Feita|2024-01-30  |Jeferson Klau|b4853fc1f03a3a4cec530a98a94d89ad|\n",
      "|LIST#20240725|ITEM#eb1e33e8a81b697b75855af6bfcdbcbf7cbbde9f94962ceaec1ed8af21f5a50f|2024-07-25|Comprar voluptatum                                    |done  |Item de Compra    |2025-04-13  |Jeferson Klau|b4853fc1f03a3a4cec530a98a94d89ad|\n",
      "|LIST#20250322|ITEM#e29c9c180c6279b0b02abd6a1801c7c04082cf486ec027aa13515e4f3884bb6b|2025-03-22|Ipsum doloremque officiis ipsa assumenda sint         |done  |Tarefa a Ser Feita|2025-06-02  |Jeferson Klau|b4853fc1f03a3a4cec530a98a94d89ad|\n",
      "|LIST#20241005|ITEM#c6f3ac57944a531490cd39902d0f777715fd005efac9a30622d5f5205e7f6894|2024-10-05|Beatae architecto nam                                 |todo  |Tarefa a Ser Feita|NULL        |Jeferson Klau|b4853fc1f03a3a4cec530a98a94d89ad|\n",
      "|LIST#20241024|ITEM#86e50149658661312a9e0b35558d84f6c6d3da797f552a9657fe0558ca40cdef|2024-10-24|Nihil ullam mollitia nobis atque                      |done  |Tarefa a Ser Feita|2025-06-02  |Jeferson Klau|b4853fc1f03a3a4cec530a98a94d89ad|\n",
      "|LIST#20230921|ITEM#9f14025af0065b30e47e23ebb3b491d39ae8ed17d33739e5ff3827ffb3634953|2023-09-21|Comprar occaecati                                     |done  |Item de Compra    |2024-02-11  |Jeferson Klau|b4853fc1f03a3a4cec530a98a94d89ad|\n",
      "|LIST#20240211|ITEM#76a50887d8f1c2e9301755428990ad81479ee21c25b43215cf524541e0503269|2024-02-11|Pariatur saepe temporibus mollitia qui inventore omnis|done  |Tarefa a Ser Feita|2024-10-23  |Jeferson Klau|b4853fc1f03a3a4cec530a98a94d89ad|\n",
      "+-------------+---------------------------------------------------------------------+----------+------------------------------------------------------+------+------------------+------------+-------------+--------------------------------+\n",
      "\n"
     ]
    }
   ],
   "source": [
    "# 1. Define a ordem desejada (ajuste para os nomes corretos das colunas)\n",
    "ordem_desejada = [\"PK\", \"SK\", \"created_at\", \"name\", \"status\"]\n",
    "\n",
    "# 2. Obtém as colunas restantes\n",
    "colunas_restantes = [c for c in df.columns if c not in ordem_desejada]\n",
    "\n",
    "# 3. Cria a lista final de colunas\n",
    "nova_ordem = ordem_desejada + colunas_restantes\n",
    "\n",
    "# 4. Reordena o DataFrame\n",
    "df_translated = df.select(*nova_ordem)\n",
    "\n",
    "# 5. Mostra o DataFrame reordenado\n",
    "df_translated.show(100, truncate=False)"
   ]
  },
  {
   "cell_type": "code",
   "execution_count": 27,
   "id": "978a2a0b",
   "metadata": {},
   "outputs": [
    {
     "name": "stdout",
     "output_type": "stream",
     "text": [
      "+-------------+---------------------------------------------------------------------+----------+------------------------------------------------------+------+------------------+------------+-------------+--------------------------------+\n",
      "|PK           |SK                                                                   |created_at|name                                                  |status|task_type         |completed_at|user         |user_ID                         |\n",
      "+-------------+---------------------------------------------------------------------+----------+------------------------------------------------------+------+------------------+------------+-------------+--------------------------------+\n",
      "|LIST#20240718|ITEM#5feceb66ffc86f38d952786c6d696c79c2dbc239dd4e91b46729d73a27fb57e9|2024-07-18|Cum iure exercitationem laboriosam                    |done  |Tarefa a Ser Feita|2025-02-12  |Jeferson Klau|b4853fc1f03a3a4cec530a98a94d89ad|\n",
      "|LIST#20250529|ITEM#6b86b273ff34fce19d6b804eff5a3f5747ada4eaa22f1d49c01e52ddb7875b4b|2025-05-29|Asperiores iusto                                      |todo  |Tarefa a Ser Feita|NULL        |Jeferson Klau|b4853fc1f03a3a4cec530a98a94d89ad|\n",
      "|LIST#20230912|ITEM#d4735e3a265e16eee03f59718b9b5d03019c07d8b6c51f90da3a666eec13ab35|2023-09-12|Asperiores pariatur voluptatibus magnam               |todo  |Tarefa a Ser Feita|NULL        |Jeferson Klau|b4853fc1f03a3a4cec530a98a94d89ad|\n",
      "|LIST#20241127|ITEM#4e07408562bedb8b60ce05c1decfe3ad16b72230967de01f640b7e4729b49fce|2024-11-27|Comprar ipsa                                          |done  |Item de Compra    |2025-02-08  |Jeferson Klau|b4853fc1f03a3a4cec530a98a94d89ad|\n",
      "|LIST#20230626|ITEM#4b227777d4dd1fc61c6f884f48641d02b4d121d3fd328cb08b5531fcacdabf8a|2023-06-26|Comprar tempore                                       |done  |Item de Compra    |2024-06-15  |Jeferson Klau|b4853fc1f03a3a4cec530a98a94d89ad|\n",
      "|LIST#20230827|ITEM#ef2d127de37b942baad06145e54b0c619a1f22327b2ebbcfbec78f5564afe39d|2023-08-27|Laboriosam dolor                                      |todo  |Tarefa a Ser Feita|NULL        |Jeferson Klau|b4853fc1f03a3a4cec530a98a94d89ad|\n",
      "|LIST#20250205|ITEM#e7f6c011776e8db7cd330b54174fd76f7d0216b612387a5ffcfb81e6f0919683|2025-02-05|Blanditiis corrupti quasi                             |todo  |Tarefa a Ser Feita|NULL        |Jeferson Klau|b4853fc1f03a3a4cec530a98a94d89ad|\n",
      "|LIST#20250213|ITEM#7902699be42c8a8e46fbbb4501726517e86b22c56a189f7625a6da49081b2451|2025-02-13|Comprar esse                                          |done  |Item de Compra    |2025-06-02  |Jeferson Klau|b4853fc1f03a3a4cec530a98a94d89ad|\n",
      "|LIST#20240331|ITEM#2c624232cdd221771294dfbb310aca000a0df6ac8b66b696d90ef06fdefb64a3|2024-03-31|Sunt soluta officia quam nesciunt                     |todo  |Tarefa a Ser Feita|NULL        |Jeferson Klau|b4853fc1f03a3a4cec530a98a94d89ad|\n",
      "|LIST#20241112|ITEM#19581e27de7ced00ff1ce50b2047e7a567c76b1cbaebabe5ef03f7c3017bb5b7|2024-11-12|Comprar ab                                            |todo  |Item de Compra    |NULL        |Jeferson Klau|b4853fc1f03a3a4cec530a98a94d89ad|\n",
      "|LIST#20240210|ITEM#4a44dc15364204a80fe80e9039455cc1608281820fe2b24f1e5233ade6af1dd5|2024-02-10|Amet beatae esse                                      |done  |Tarefa a Ser Feita|2024-02-14  |Jeferson Klau|b4853fc1f03a3a4cec530a98a94d89ad|\n",
      "|LIST#20250312|ITEM#4fc82b26aecb47d2868c4efbe3581732a3e7cbcc6c2efb32062c08170a05eeb8|2025-03-12|Modi                                                  |todo  |Tarefa a Ser Feita|NULL        |Jeferson Klau|b4853fc1f03a3a4cec530a98a94d89ad|\n",
      "|LIST#20250525|ITEM#6b51d431df5d7f141cbececcf79edf3dd861c3b4069f0b11661a3eefacbba918|2025-05-25|Comprar sed                                           |todo  |Item de Compra    |NULL        |Jeferson Klau|b4853fc1f03a3a4cec530a98a94d89ad|\n",
      "|LIST#20240921|ITEM#3fdba35f04dc8c462986c992bcf875546257113072a909c162f7e470e581e278|2024-09-21|Comprar ullam                                         |done  |Item de Compra    |2025-01-25  |Jeferson Klau|b4853fc1f03a3a4cec530a98a94d89ad|\n",
      "|LIST#20240519|ITEM#8527a891e224136950ff32ca212b45bc93f69fbb801c3b1ebedac52775f99e61|2024-05-19|Ipsa accusantium voluptate                            |done  |Tarefa a Ser Feita|2025-01-12  |Jeferson Klau|b4853fc1f03a3a4cec530a98a94d89ad|\n",
      "|LIST#20240710|ITEM#e629fa6598d732768f7c726b4b621285f9c3b85303900aa912017db7617d8bdb|2024-07-10|Doloremque excepturi repellendus ad iusto aut         |done  |Tarefa a Ser Feita|2025-01-16  |Jeferson Klau|b4853fc1f03a3a4cec530a98a94d89ad|\n",
      "|LIST#20231216|ITEM#b17ef6d19c7a5b1ee83b907c595526dcb1eb06db8227d650d5dda0a9f4ce8cd9|2023-12-16|Ad iusto culpa                                        |todo  |Tarefa a Ser Feita|NULL        |Jeferson Klau|b4853fc1f03a3a4cec530a98a94d89ad|\n",
      "|LIST#20241010|ITEM#4523540f1504cd17100c4835e85b7eefd49911580f8efff0599a8f283be6b9e3|2024-10-10|Rerum animi ducimus vel                               |done  |Tarefa a Ser Feita|2024-12-13  |Jeferson Klau|b4853fc1f03a3a4cec530a98a94d89ad|\n",
      "|LIST#20240310|ITEM#4ec9599fc203d176a301536c2e091a19bc852759b255bd6818810a42c5fed14a|2024-03-10|Comprar aspernatur                                    |todo  |Item de Compra    |NULL        |Jeferson Klau|b4853fc1f03a3a4cec530a98a94d89ad|\n",
      "|LIST#20240708|ITEM#9400f1b21cb527d7fa3d3eabba93557a18ebe7a2ca4e471cfe5e4c5b4ca7f767|2024-07-08|Fuga quae corporis dignissimos voluptas dolorem ipsa  |todo  |Tarefa a Ser Feita|NULL        |Jeferson Klau|b4853fc1f03a3a4cec530a98a94d89ad|\n",
      "|LIST#20240217|ITEM#f5ca38f748a1d6eaf726b8a42fb575c3c71f1864a8143301782de13da2d9202b|2024-02-17|Facilis illo quibusdam                                |done  |Tarefa a Ser Feita|2024-05-26  |Jeferson Klau|b4853fc1f03a3a4cec530a98a94d89ad|\n",
      "|LIST#20241207|ITEM#6f4b6612125fb3a0daecd2799dfd6c9c299424fd920f9b308110a2c1fbd8f443|2024-12-07|Minus quisquam quae                                   |done  |Tarefa a Ser Feita|2025-06-02  |Jeferson Klau|b4853fc1f03a3a4cec530a98a94d89ad|\n",
      "|LIST#20231231|ITEM#785f3ec7eb32f30b90cd0fcf3657d388b5ff4297f2f9716ff66e9b69c05ddd09|2023-12-31|Delectus cum aut rem earum                            |done  |Tarefa a Ser Feita|2024-06-10  |Jeferson Klau|b4853fc1f03a3a4cec530a98a94d89ad|\n",
      "|LIST#20250509|ITEM#535fa30d7e25dd8a49f1536779734ec8286108d115da5045d77f3b4185d8f790|2025-05-09|Nobis fugit earum enim quo ipsa                       |todo  |Tarefa a Ser Feita|NULL        |Jeferson Klau|b4853fc1f03a3a4cec530a98a94d89ad|\n",
      "|LIST#20231207|ITEM#c2356069e9d1e79ca924378153cfbbfb4d4416b1f99d41a2940bfdb66c5319db|2023-12-07|Atque nostrum eveniet aperiam                         |done  |Tarefa a Ser Feita|2024-04-17  |Jeferson Klau|b4853fc1f03a3a4cec530a98a94d89ad|\n",
      "|LIST#20241018|ITEM#b7a56873cd771f2c446d369b649430b65a756ba278ff97ec81bb6f55b2e73569|2024-10-18|Natus cum voluptas accusamus assumenda magni          |done  |Tarefa a Ser Feita|2024-12-31  |Jeferson Klau|b4853fc1f03a3a4cec530a98a94d89ad|\n",
      "|LIST#20231015|ITEM#5f9c4ab08cac7457e9111a30e4664920607ea2c115a1433d7be98e97e64244ca|2023-10-15|Dolore harum quos omnis maxime facilis                |todo  |Tarefa a Ser Feita|NULL        |Jeferson Klau|b4853fc1f03a3a4cec530a98a94d89ad|\n",
      "|LIST#20240603|ITEM#670671cd97404156226e507973f2ab8330d3022ca96e0c93bdbdb320c41adcaf|2024-06-03|Fuga ipsam autem alias commodi                        |todo  |Tarefa a Ser Feita|NULL        |Jeferson Klau|b4853fc1f03a3a4cec530a98a94d89ad|\n",
      "|LIST#20240413|ITEM#59e19706d51d39f66711c2653cd7eb1291c94d9b55eb14bda74ce4dc636d015a|2024-04-13|Facilis non                                           |done  |Tarefa a Ser Feita|2025-03-03  |Jeferson Klau|b4853fc1f03a3a4cec530a98a94d89ad|\n",
      "|LIST#20241126|ITEM#35135aaa6cc23891b40cb3f378c53a17a1127210ce60e125ccf03efcfdaec458|2024-11-26|Quis voluptatem                                       |todo  |Tarefa a Ser Feita|NULL        |Jeferson Klau|b4853fc1f03a3a4cec530a98a94d89ad|\n",
      "|LIST#20230619|ITEM#624b60c58c9d8bfb6ff1886c2fd605d2adeb6ea4da576068201b6c6958ce93f4|2023-06-19|Sunt beatae                                           |done  |Tarefa a Ser Feita|2024-01-30  |Jeferson Klau|b4853fc1f03a3a4cec530a98a94d89ad|\n",
      "|LIST#20240725|ITEM#eb1e33e8a81b697b75855af6bfcdbcbf7cbbde9f94962ceaec1ed8af21f5a50f|2024-07-25|Comprar voluptatum                                    |done  |Item de Compra    |2025-04-13  |Jeferson Klau|b4853fc1f03a3a4cec530a98a94d89ad|\n",
      "|LIST#20250322|ITEM#e29c9c180c6279b0b02abd6a1801c7c04082cf486ec027aa13515e4f3884bb6b|2025-03-22|Ipsum doloremque officiis ipsa assumenda sint         |done  |Tarefa a Ser Feita|2025-06-02  |Jeferson Klau|b4853fc1f03a3a4cec530a98a94d89ad|\n",
      "|LIST#20241005|ITEM#c6f3ac57944a531490cd39902d0f777715fd005efac9a30622d5f5205e7f6894|2024-10-05|Beatae architecto nam                                 |todo  |Tarefa a Ser Feita|NULL        |Jeferson Klau|b4853fc1f03a3a4cec530a98a94d89ad|\n",
      "|LIST#20241024|ITEM#86e50149658661312a9e0b35558d84f6c6d3da797f552a9657fe0558ca40cdef|2024-10-24|Nihil ullam mollitia nobis atque                      |done  |Tarefa a Ser Feita|2025-06-02  |Jeferson Klau|b4853fc1f03a3a4cec530a98a94d89ad|\n",
      "|LIST#20230921|ITEM#9f14025af0065b30e47e23ebb3b491d39ae8ed17d33739e5ff3827ffb3634953|2023-09-21|Comprar occaecati                                     |done  |Item de Compra    |2024-02-11  |Jeferson Klau|b4853fc1f03a3a4cec530a98a94d89ad|\n",
      "|LIST#20240211|ITEM#76a50887d8f1c2e9301755428990ad81479ee21c25b43215cf524541e0503269|2024-02-11|Pariatur saepe temporibus mollitia qui inventore omnis|done  |Tarefa a Ser Feita|2024-10-23  |Jeferson Klau|b4853fc1f03a3a4cec530a98a94d89ad|\n",
      "+-------------+---------------------------------------------------------------------+----------+------------------------------------------------------+------+------------------+------------+-------------+--------------------------------+\n",
      "\n"
     ]
    },
    {
     "data": {
      "text/plain": [
       "['name',\n",
       " 'task_type',\n",
       " 'created_at',\n",
       " 'completed_at',\n",
       " 'status',\n",
       " 'user',\n",
       " 'user_ID',\n",
       " 'PK',\n",
       " 'SK']"
      ]
     },
     "execution_count": 27,
     "metadata": {},
     "output_type": "execute_result"
    }
   ],
   "source": [
    "\n",
    "# 5. Mostra o DataFrame reordenado\n",
    "df_translated.show(100, truncate=False)\n",
    "df.columns"
   ]
  },
  {
   "cell_type": "code",
   "execution_count": 26,
   "id": "28e192d1",
   "metadata": {},
   "outputs": [
    {
     "name": "stdout",
     "output_type": "stream",
     "text": [
      "✅ Inserção em lote concluída com sucesso!\n"
     ]
    }
   ],
   "source": [
    "dynamodb = boto3.resource('dynamodb', region_name='sa-east-1')  \n",
    "table = dynamodb.Table(\"Tabela-teste-tarefas\")\n",
    " \n",
    "dados = [row.asDict() for row in df_translated.collect()]  \n",
    " \n",
    "try:\n",
    "    with table.batch_writer() as batch:\n",
    "        for item in dados:  \n",
    "            batch.put_item(Item=item)\n",
    "    print(\"✅ Inserção em lote concluída com sucesso!\")\n",
    "except ClientError as e:\n",
    "    print(f\"Erro na inserção em lote: {e.response['Error']['Message']}\")\n",
    "except Exception as e:\n",
    "    print(f\"Ocorreu um erro inesperado: {e}\")"
   ]
  }
 ],
 "metadata": {
  "kernelspec": {
   "display_name": ".venv",
   "language": "python",
   "name": "python3"
  },
  "language_info": {
   "codemirror_mode": {
    "name": "ipython",
    "version": 3
   },
   "file_extension": ".py",
   "mimetype": "text/x-python",
   "name": "python",
   "nbconvert_exporter": "python",
   "pygments_lexer": "ipython3",
   "version": "3.11.9"
  }
 },
 "nbformat": 4,
 "nbformat_minor": 5
}
